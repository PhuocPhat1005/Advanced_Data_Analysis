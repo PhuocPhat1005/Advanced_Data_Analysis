{
 "cells": [
  {
   "cell_type": "code",
   "execution_count": 2,
   "id": "70741285-97fd-4429-a8f2-4936b55591fe",
   "metadata": {
    "tags": []
   },
   "outputs": [],
   "source": [
    "import pandas as pd\n",
    "import numpy as np\n",
    "import seaborn as sns\n",
    "import matplotlib.pyplot as plt\n",
    "import warnings\n",
    "warnings.filterwarnings(\"ignore\")"
   ]
  },
  {
   "cell_type": "code",
   "execution_count": 3,
   "id": "8f015853-a1cd-4a88-8134-6516435215cd",
   "metadata": {
    "tags": []
   },
   "outputs": [],
   "source": [
    "df = pd.read_csv(\"tiki_product.csv\", dtype={\"id\": str})"
   ]
  },
  {
   "cell_type": "code",
   "execution_count": 4,
   "id": "b6d928b3-66ec-4f8d-a2da-5478a6fcf31e",
   "metadata": {
    "tags": []
   },
   "outputs": [],
   "source": [
    "del df[\"Unnamed: 0\"]"
   ]
  },
  {
   "cell_type": "code",
   "execution_count": 5,
   "id": "234dc7f8-c214-4f4f-965b-1b3261dae3e9",
   "metadata": {
    "tags": []
   },
   "outputs": [],
   "source": [
    "df = df.drop_duplicates()"
   ]
  },
  {
   "cell_type": "code",
   "execution_count": 6,
   "id": "2007ae94-3f0a-447f-b07e-a089d5c9f1f6",
   "metadata": {
    "tags": []
   },
   "outputs": [],
   "source": [
    "df[\"date_created\"] = df[\"date_created\"].clip(upper=8*365)"
   ]
  },
  {
   "cell_type": "code",
   "execution_count": 7,
   "id": "fbdaa2d2-f56d-46f8-9b23-ab7af51ceff1",
   "metadata": {
    "tags": []
   },
   "outputs": [],
   "source": [
    "df[\"loaded_date\"] = pd.to_datetime(\"2024-07-18 00:00:00\")"
   ]
  },
  {
   "cell_type": "code",
   "execution_count": 8,
   "id": "2646d1b6-d123-4014-bd18-5c2309a2d086",
   "metadata": {
    "tags": []
   },
   "outputs": [],
   "source": [
    "product_sources = {\n",
    "    \"vietnamese_tiki_products_fashion_accessories.csv\": \"Phụ kiện thời trang\",\n",
    "    \"vietnamese_tiki_products_women_shoes.csv\": \"Giày nữ\",\n",
    "    \"vietnamese_tiki_products_men_shoes.csv\": \"Giày nam\",\n",
    "    \"vietnamese_tiki_products_backpacks_suitcases.csv\": \"Balo & vali\",\n",
    "    \"vietnamese_tiki_products_women_bags.csv\": \"Túi xách nữ\",\n",
    "    \"vietnamese_tiki_products_men_bags.csv\": \"Túi xách nam\"\n",
    "}\n",
    "df[\"product_source\"] = df.source.map(product_sources)"
   ]
  },
  {
   "cell_type": "code",
   "execution_count": 9,
   "id": "3bfc8202-c3ad-4f6a-8885-e89b37a446f7",
   "metadata": {
    "tags": []
   },
   "outputs": [
    {
     "data": {
      "text/plain": [
       "Index(['id', 'name', 'description', 'original_price', 'price',\n",
       "       'fulfillment_type', 'brand', 'review_count', 'rating_average',\n",
       "       'favourite_count', 'pay_later', 'current_seller', 'date_created',\n",
       "       'number_of_images', 'vnd_cashback', 'has_video', 'category',\n",
       "       'quantity_sold', 'source', 'loaded_date', 'product_source'],\n",
       "      dtype='object')"
      ]
     },
     "execution_count": 9,
     "metadata": {},
     "output_type": "execute_result"
    }
   ],
   "source": [
    "df.columns"
   ]
  },
  {
   "cell_type": "markdown",
   "id": "09c211a0-0c6b-437a-b898-ee81eb8d3cfa",
   "metadata": {},
   "source": [
    "## Thông tin các trường dữ liệu sản phẩm\n",
    "\n",
    "- **id**: Mã định danh sản phẩm duy nhất  \n",
    "- **name**: Tên sản phẩm  \n",
    "- **description**: Mô tả sản phẩm  \n",
    "- **original_price**: Giá gốc (chưa áp dụng giảm giá)  \n",
    "- **price**: Giá hiện tại (có thể đã áp dụng hoặc chưa áp dụng giảm giá)  \n",
    "- **fulfillment_type**: Hình thức giao hàng — `dropship` / `seller_delivery` / `tiki_delivery`  \n",
    "  - **dropship**: Hàng được chuyển từ (người bán → kho TIKI → khách hàng), đóng gói bởi TIKI  \n",
    "  - **seller_delivery**: Hàng được chuyển trực tiếp từ (người bán → khách hàng), đóng gói bởi người bán  \n",
    "  - **tiki_delivery**: Hàng do TIKI sở hữu, chuyển từ (kho TIKI → khách hàng)  \n",
    "- **brand**: Thương hiệu (OEM hoặc thương hiệu đã đăng ký).  \n",
    "  - *OEM* nghĩa là nhà sản xuất thiết bị gốc, hoặc hiểu đơn giản là \"không có thương hiệu\"  \n",
    "- **review_counts**: Số lượng đánh giá  \n",
    "- **rating_average**: Điểm đánh giá trung bình  \n",
    "- **favorite_count**: Số người dùng đã thêm sản phẩm này vào danh sách yêu thích  \n",
    "- **pay_later**: Có hỗ trợ chương trình \"mua trước trả sau\" hay không  \n",
    "- **current_seller**: Tên người bán hiện tại  \n",
    "- **date_created**: Số ngày giữa ngày tạo và ngày cập nhật cuối cùng  \n",
    "- **number_of_images**: Số lượng hình ảnh sản phẩm đã tải lên  \n",
    "- **vnd_cashback**: Số tiền hoàn lại (cashback) tính theo VNĐ  \n",
    "- **has_video**: `True` nếu có video, `False` nếu không  \n",
    "- **quantity_sold**: Tổng số lượng đã bán trong lịch sử  \n"
   ]
  },
  {
   "cell_type": "code",
   "execution_count": 10,
   "id": "8177beeb-65c6-48aa-aeb5-63c91dda3531",
   "metadata": {
    "tags": []
   },
   "outputs": [],
   "source": [
    "df[\"date_created_temp\"] = df[\"loaded_date\"] - pd.to_timedelta(df[\"date_created\"], unit=\"D\")"
   ]
  },
  {
   "cell_type": "code",
   "execution_count": 11,
   "id": "07539efc-8a26-4dae-9944-1cef8fdcde45",
   "metadata": {
    "tags": []
   },
   "outputs": [],
   "source": [
    "df = df.rename(columns={\"date_created\": \"delta_days\", \"date_created_temp\": \"date_created\"})"
   ]
  },
  {
   "cell_type": "code",
   "execution_count": 12,
   "id": "456a877b-78d4-4a8f-ba14-670d2ce7487b",
   "metadata": {
    "tags": []
   },
   "outputs": [
    {
     "data": {
      "text/plain": [
       "count    13017.000000\n",
       "mean         4.413313\n",
       "std          0.882090\n",
       "min          1.000000\n",
       "25%          4.100000\n",
       "50%          4.700000\n",
       "75%          5.000000\n",
       "max          5.000000\n",
       "Name: rating_average, dtype: float64"
      ]
     },
     "execution_count": 12,
     "metadata": {},
     "output_type": "execute_result"
    }
   ],
   "source": [
    "df[df.rating_average>0].rating_average.describe()"
   ]
  },
  {
   "cell_type": "code",
   "execution_count": 13,
   "id": "bcc3d2d6-0350-417e-9319-f0946806e0f3",
   "metadata": {
    "tags": []
   },
   "outputs": [],
   "source": [
    "#df.to_csv(\"D:/career/master/data_analysis/ck/Advanced_Data_Analyst/data/Products.csv\", index=False, encoding=\"utf-8-sig\")"
   ]
  },
  {
   "cell_type": "markdown",
   "id": "09ec210d-c9a8-4f7b-a3fd-1faa05310ee4",
   "metadata": {
    "tags": []
   },
   "source": [
    "## 1. Phân tích mô tả"
   ]
  },
  {
   "cell_type": "markdown",
   "id": "a268332e-09c3-46da-8694-fab0162273e4",
   "metadata": {
    "tags": []
   },
   "source": [
    "### 1.1. Mô tả tình hình Trưng bày chết"
   ]
  },
  {
   "cell_type": "code",
   "execution_count": 13,
   "id": "78b0e778-f2f6-49b4-885e-d990350aa763",
   "metadata": {
    "tags": []
   },
   "outputs": [],
   "source": [
    "t = df[df[\"id\"] == \"172192277\"].values"
   ]
  },
  {
   "cell_type": "code",
   "execution_count": 14,
   "id": "8ee4d9b7-504a-4fbc-a2d9-fa3729d37669",
   "metadata": {
    "tags": []
   },
   "outputs": [
    {
     "data": {
      "text/plain": [
       "Index(['id', 'name', 'description', 'original_price', 'price',\n",
       "       'fulfillment_type', 'brand', 'review_count', 'rating_average',\n",
       "       'favourite_count', 'pay_later', 'current_seller', 'delta_days',\n",
       "       'number_of_images', 'vnd_cashback', 'has_video', 'category',\n",
       "       'quantity_sold', 'source', 'loaded_date', 'product_source',\n",
       "       'date_created'],\n",
       "      dtype='object')"
      ]
     },
     "execution_count": 14,
     "metadata": {},
     "output_type": "execute_result"
    }
   ],
   "source": [
    "df.columns"
   ]
  },
  {
   "cell_type": "code",
   "execution_count": 15,
   "id": "fa651bf0-197e-4035-a239-4269a06771c0",
   "metadata": {
    "tags": []
   },
   "outputs": [],
   "source": [
    "df01 = df[[\"id\", \"name\", \"category\", \"product_source\", \"quantity_sold\", \"date_created\"]]"
   ]
  },
  {
   "cell_type": "code",
   "execution_count": 16,
   "id": "0abad020-c173-4f82-ae53-ab681ea13cd4",
   "metadata": {
    "tags": []
   },
   "outputs": [],
   "source": [
    "df01[\"status\"] = (df01.quantity_sold>0).astype(int)"
   ]
  },
  {
   "cell_type": "code",
   "execution_count": 17,
   "id": "e146ca0d-4b24-49fd-9e65-fb8ae4352830",
   "metadata": {},
   "outputs": [
    {
     "data": {
      "text/plain": [
       "(20031, 7)"
      ]
     },
     "execution_count": 17,
     "metadata": {},
     "output_type": "execute_result"
    }
   ],
   "source": [
    "df01[df01.quantity_sold > 0].shape"
   ]
  },
  {
   "cell_type": "code",
   "execution_count": 18,
   "id": "965d1fd8-faae-4ec2-83ff-92e07880915f",
   "metadata": {
    "tags": []
   },
   "outputs": [
    {
     "data": {
      "text/plain": [
       "(21550, 7)"
      ]
     },
     "execution_count": 18,
     "metadata": {},
     "output_type": "execute_result"
    }
   ],
   "source": [
    "df01[df01.quantity_sold == 0].shape"
   ]
  },
  {
   "cell_type": "code",
   "execution_count": 19,
   "id": "3e829df9-f19f-4a9c-8c62-a96be75684fe",
   "metadata": {
    "tags": []
   },
   "outputs": [
    {
     "data": {
      "text/plain": [
       "status\n",
       "0    21550\n",
       "1    20031\n",
       "Name: count, dtype: int64"
      ]
     },
     "execution_count": 19,
     "metadata": {},
     "output_type": "execute_result"
    }
   ],
   "source": [
    "df01.status.value_counts()"
   ]
  },
  {
   "cell_type": "code",
   "execution_count": 20,
   "id": "96880625-a77a-448b-8e70-ddf25a9891f2",
   "metadata": {
    "tags": []
   },
   "outputs": [
    {
     "data": {
      "text/html": [
       "<div>\n",
       "<style scoped>\n",
       "    .dataframe tbody tr th:only-of-type {\n",
       "        vertical-align: middle;\n",
       "    }\n",
       "\n",
       "    .dataframe tbody tr th {\n",
       "        vertical-align: top;\n",
       "    }\n",
       "\n",
       "    .dataframe thead th {\n",
       "        text-align: right;\n",
       "    }\n",
       "</style>\n",
       "<table border=\"1\" class=\"dataframe\">\n",
       "  <thead>\n",
       "    <tr style=\"text-align: right;\">\n",
       "      <th></th>\n",
       "      <th>id</th>\n",
       "      <th>name</th>\n",
       "      <th>category</th>\n",
       "      <th>product_source</th>\n",
       "      <th>quantity_sold</th>\n",
       "      <th>date_created</th>\n",
       "      <th>status</th>\n",
       "    </tr>\n",
       "  </thead>\n",
       "  <tbody>\n",
       "    <tr>\n",
       "      <th>0</th>\n",
       "      <td>179731375</td>\n",
       "      <td>Balo nữ da dầy thời trang unisex màu sắc tươi ...</td>\n",
       "      <td>Balo nữ</td>\n",
       "      <td>Balo &amp; vali</td>\n",
       "      <td>0</td>\n",
       "      <td>2023-03-18</td>\n",
       "      <td>0</td>\n",
       "    </tr>\n",
       "    <tr>\n",
       "      <th>1</th>\n",
       "      <td>249221065</td>\n",
       "      <td>Ví da đựng thẻ ngân hàng (7 màu) - 9205</td>\n",
       "      <td>Root</td>\n",
       "      <td>Balo &amp; vali</td>\n",
       "      <td>0</td>\n",
       "      <td>2024-02-03</td>\n",
       "      <td>0</td>\n",
       "    </tr>\n",
       "  </tbody>\n",
       "</table>\n",
       "</div>"
      ],
      "text/plain": [
       "          id                                               name category  \\\n",
       "0  179731375  Balo nữ da dầy thời trang unisex màu sắc tươi ...  Balo nữ   \n",
       "1  249221065            Ví da đựng thẻ ngân hàng (7 màu) - 9205     Root   \n",
       "\n",
       "  product_source  quantity_sold date_created  status  \n",
       "0    Balo & vali              0   2023-03-18       0  \n",
       "1    Balo & vali              0   2024-02-03       0  "
      ]
     },
     "execution_count": 20,
     "metadata": {},
     "output_type": "execute_result"
    }
   ],
   "source": [
    "df01.head(2)"
   ]
  },
  {
   "cell_type": "code",
   "execution_count": 21,
   "id": "a731028e-988d-498f-99f0-a72d0a60b982",
   "metadata": {
    "tags": []
   },
   "outputs": [],
   "source": [
    "#df01.to_csv(\"D:/career/master/data_analysis/ck/Advanced_Data_Analyst/data/Products_DisplayStatus.csv\", index=False, encoding=\"utf-8-sig\")"
   ]
  },
  {
   "cell_type": "markdown",
   "id": "a55a259f-87ec-4a29-9765-f10c0fb9852e",
   "metadata": {
    "tags": []
   },
   "source": [
    "### 1.2. Báo cáo doanh thu"
   ]
  },
  {
   "cell_type": "code",
   "execution_count": 22,
   "id": "b5160b40-952f-41b5-97f9-953f2dcc3350",
   "metadata": {
    "tags": []
   },
   "outputs": [],
   "source": [
    "df02 = df[[\"id\", \"name\", \"product_source\", \"category\", \"original_price\", \"quantity_sold\", \"current_seller\", \"date_created\"]]"
   ]
  },
  {
   "cell_type": "code",
   "execution_count": 23,
   "id": "3699f370-7796-4c24-a97b-9849e2792767",
   "metadata": {
    "tags": []
   },
   "outputs": [],
   "source": [
    "df02[\"revenue\"] = df02.original_price * df02.quantity_sold"
   ]
  },
  {
   "cell_type": "code",
   "execution_count": 24,
   "id": "68b80815-d316-4258-a085-d4b7f234c54f",
   "metadata": {
    "tags": []
   },
   "outputs": [
    {
     "data": {
      "text/html": [
       "<div>\n",
       "<style scoped>\n",
       "    .dataframe tbody tr th:only-of-type {\n",
       "        vertical-align: middle;\n",
       "    }\n",
       "\n",
       "    .dataframe tbody tr th {\n",
       "        vertical-align: top;\n",
       "    }\n",
       "\n",
       "    .dataframe thead th {\n",
       "        text-align: right;\n",
       "    }\n",
       "</style>\n",
       "<table border=\"1\" class=\"dataframe\">\n",
       "  <thead>\n",
       "    <tr style=\"text-align: right;\">\n",
       "      <th></th>\n",
       "      <th>id</th>\n",
       "      <th>name</th>\n",
       "      <th>product_source</th>\n",
       "      <th>category</th>\n",
       "      <th>original_price</th>\n",
       "      <th>quantity_sold</th>\n",
       "      <th>current_seller</th>\n",
       "      <th>date_created</th>\n",
       "      <th>revenue</th>\n",
       "    </tr>\n",
       "  </thead>\n",
       "  <tbody>\n",
       "    <tr>\n",
       "      <th>0</th>\n",
       "      <td>179731375</td>\n",
       "      <td>Balo nữ da dầy thời trang unisex màu sắc tươi ...</td>\n",
       "      <td>Balo &amp; vali</td>\n",
       "      <td>Balo nữ</td>\n",
       "      <td>14250</td>\n",
       "      <td>0</td>\n",
       "      <td>Thiên Ân Balo</td>\n",
       "      <td>2023-03-18</td>\n",
       "      <td>0</td>\n",
       "    </tr>\n",
       "    <tr>\n",
       "      <th>1</th>\n",
       "      <td>249221065</td>\n",
       "      <td>Ví da đựng thẻ ngân hàng (7 màu) - 9205</td>\n",
       "      <td>Balo &amp; vali</td>\n",
       "      <td>Root</td>\n",
       "      <td>10260</td>\n",
       "      <td>0</td>\n",
       "      <td>SHOP THỜI TRANG 2N</td>\n",
       "      <td>2024-02-03</td>\n",
       "      <td>0</td>\n",
       "    </tr>\n",
       "    <tr>\n",
       "      <th>2</th>\n",
       "      <td>102862196</td>\n",
       "      <td>Balo nam nữ thời trang họa tiết bò sữa kiểu m...</td>\n",
       "      <td>Balo &amp; vali</td>\n",
       "      <td>Root</td>\n",
       "      <td>19999</td>\n",
       "      <td>0</td>\n",
       "      <td>Xưởng may balo Đà Nẵng</td>\n",
       "      <td>2022-04-09</td>\n",
       "      <td>0</td>\n",
       "    </tr>\n",
       "    <tr>\n",
       "      <th>3</th>\n",
       "      <td>115740385</td>\n",
       "      <td>Vải nhũ bóng simili chống thấm may túi ví balo...</td>\n",
       "      <td>Balo &amp; vali</td>\n",
       "      <td>Root</td>\n",
       "      <td>30000</td>\n",
       "      <td>0</td>\n",
       "      <td>BB Outlet</td>\n",
       "      <td>2022-06-04</td>\n",
       "      <td>0</td>\n",
       "    </tr>\n",
       "    <tr>\n",
       "      <th>4</th>\n",
       "      <td>102862375</td>\n",
       "      <td>Combo balo vừa a4 và túi tote thời trang kiểu...</td>\n",
       "      <td>Balo &amp; vali</td>\n",
       "      <td>Root</td>\n",
       "      <td>29000</td>\n",
       "      <td>0</td>\n",
       "      <td>Xưởng may balo Đà Nẵng</td>\n",
       "      <td>2022-04-09</td>\n",
       "      <td>0</td>\n",
       "    </tr>\n",
       "  </tbody>\n",
       "</table>\n",
       "</div>"
      ],
      "text/plain": [
       "          id                                               name  \\\n",
       "0  179731375  Balo nữ da dầy thời trang unisex màu sắc tươi ...   \n",
       "1  249221065            Ví da đựng thẻ ngân hàng (7 màu) - 9205   \n",
       "2  102862196   Balo nam nữ thời trang họa tiết bò sữa kiểu m...   \n",
       "3  115740385  Vải nhũ bóng simili chống thấm may túi ví balo...   \n",
       "4  102862375   Combo balo vừa a4 và túi tote thời trang kiểu...   \n",
       "\n",
       "  product_source category  original_price  quantity_sold  \\\n",
       "0    Balo & vali  Balo nữ           14250              0   \n",
       "1    Balo & vali     Root           10260              0   \n",
       "2    Balo & vali     Root           19999              0   \n",
       "3    Balo & vali     Root           30000              0   \n",
       "4    Balo & vali     Root           29000              0   \n",
       "\n",
       "           current_seller date_created  revenue  \n",
       "0           Thiên Ân Balo   2023-03-18        0  \n",
       "1      SHOP THỜI TRANG 2N   2024-02-03        0  \n",
       "2  Xưởng may balo Đà Nẵng   2022-04-09        0  \n",
       "3               BB Outlet   2022-06-04        0  \n",
       "4  Xưởng may balo Đà Nẵng   2022-04-09        0  "
      ]
     },
     "execution_count": 24,
     "metadata": {},
     "output_type": "execute_result"
    }
   ],
   "source": [
    "df02.head()"
   ]
  },
  {
   "cell_type": "code",
   "execution_count": 25,
   "id": "e798be85-19f8-4be6-80be-dc688f844158",
   "metadata": {
    "tags": []
   },
   "outputs": [],
   "source": [
    "df02.to_csv(\"D:/career/master/data_analysis/ck/Advanced_Data_Analyst/data/Products_Revenue.csv\", index=False, encoding=\"utf-8-sig\")"
   ]
  },
  {
   "cell_type": "markdown",
   "id": "0d166c54-1c96-41a2-89af-b92cc1e31646",
   "metadata": {
    "tags": []
   },
   "source": [
    "### 1.3. Báo cáo đánh giá sản phẩm"
   ]
  },
  {
   "cell_type": "code",
   "execution_count": 26,
   "id": "de224ef0-4d65-4dc4-a88a-019251280b24",
   "metadata": {
    "tags": []
   },
   "outputs": [
    {
     "data": {
      "text/plain": [
       "Index(['id', 'name', 'description', 'original_price', 'price',\n",
       "       'fulfillment_type', 'brand', 'review_count', 'rating_average',\n",
       "       'favourite_count', 'pay_later', 'current_seller', 'delta_days',\n",
       "       'number_of_images', 'vnd_cashback', 'has_video', 'category',\n",
       "       'quantity_sold', 'source', 'loaded_date', 'product_source',\n",
       "       'date_created'],\n",
       "      dtype='object')"
      ]
     },
     "execution_count": 26,
     "metadata": {},
     "output_type": "execute_result"
    }
   ],
   "source": [
    "df.columns"
   ]
  },
  {
   "cell_type": "code",
   "execution_count": 27,
   "id": "d151abac-b67b-4ef3-8db4-8e98fde73aae",
   "metadata": {
    "tags": []
   },
   "outputs": [],
   "source": [
    "df03 = df[[\"id\", \"name\", \"product_source\", \"category\", \"review_count\", \"rating_average\", \"current_seller\"]]"
   ]
  },
  {
   "cell_type": "code",
   "execution_count": 28,
   "id": "b0f14188-6b54-4320-9b4b-66a9794eb550",
   "metadata": {
    "tags": []
   },
   "outputs": [],
   "source": [
    "df03[\"is_reviewed\"] = (df03.rating_average>=1).astype(int)"
   ]
  },
  {
   "cell_type": "code",
   "execution_count": 29,
   "id": "b6d1cc6c-11aa-48a6-b113-b9be4a9c24f2",
   "metadata": {
    "tags": []
   },
   "outputs": [],
   "source": [
    "#df03.to_csv(\"D:/career/master/data_analysis/ck/Advanced_Data_Analyst/data/Products_Rating.csv\", index=False, encoding=\"utf-8-sig\")"
   ]
  },
  {
   "cell_type": "markdown",
   "id": "a5bfef0e-0e67-4c45-acac-34ee577dd8f5",
   "metadata": {
    "tags": []
   },
   "source": [
    "### 1.4. Mô tả tình hình theo thời gian"
   ]
  },
  {
   "cell_type": "code",
   "execution_count": 30,
   "id": "7b429b36-ca98-47af-9cad-130b1fc194b8",
   "metadata": {
    "tags": []
   },
   "outputs": [],
   "source": [
    "df04 = df[[\"id\", \"name\", \"quantity_sold\", \"brand\", \"product_source\", \"category\", \"date_created\", \"current_seller\"]]"
   ]
  },
  {
   "cell_type": "code",
   "execution_count": 31,
   "id": "92eb4305-2b69-4a8a-bed5-d12ebd6b6987",
   "metadata": {
    "tags": []
   },
   "outputs": [],
   "source": [
    "#df04.to_csv(\"D:/career/master/data_analysis/ck/Advanced_Data_Analyst/data/Products_Quantity.csv\", index=False, encoding=\"utf-8-sig\")"
   ]
  },
  {
   "cell_type": "code",
   "execution_count": 32,
   "id": "3d2c6afa-b013-4daa-9b10-72a80c52df00",
   "metadata": {
    "tags": []
   },
   "outputs": [
    {
     "data": {
      "text/html": [
       "<div>\n",
       "<style scoped>\n",
       "    .dataframe tbody tr th:only-of-type {\n",
       "        vertical-align: middle;\n",
       "    }\n",
       "\n",
       "    .dataframe tbody tr th {\n",
       "        vertical-align: top;\n",
       "    }\n",
       "\n",
       "    .dataframe thead th {\n",
       "        text-align: right;\n",
       "    }\n",
       "</style>\n",
       "<table border=\"1\" class=\"dataframe\">\n",
       "  <thead>\n",
       "    <tr style=\"text-align: right;\">\n",
       "      <th></th>\n",
       "      <th>id</th>\n",
       "      <th>name</th>\n",
       "      <th>quantity_sold</th>\n",
       "      <th>brand</th>\n",
       "      <th>product_source</th>\n",
       "      <th>category</th>\n",
       "      <th>date_created</th>\n",
       "      <th>current_seller</th>\n",
       "    </tr>\n",
       "  </thead>\n",
       "  <tbody>\n",
       "    <tr>\n",
       "      <th>0</th>\n",
       "      <td>179731375</td>\n",
       "      <td>Balo nữ da dầy thời trang unisex màu sắc tươi ...</td>\n",
       "      <td>0</td>\n",
       "      <td>OEM</td>\n",
       "      <td>Balo &amp; vali</td>\n",
       "      <td>Balo nữ</td>\n",
       "      <td>2023-03-18</td>\n",
       "      <td>Thiên Ân Balo</td>\n",
       "    </tr>\n",
       "    <tr>\n",
       "      <th>1</th>\n",
       "      <td>249221065</td>\n",
       "      <td>Ví da đựng thẻ ngân hàng (7 màu) - 9205</td>\n",
       "      <td>0</td>\n",
       "      <td>OEM</td>\n",
       "      <td>Balo &amp; vali</td>\n",
       "      <td>Root</td>\n",
       "      <td>2024-02-03</td>\n",
       "      <td>SHOP THỜI TRANG 2N</td>\n",
       "    </tr>\n",
       "    <tr>\n",
       "      <th>2</th>\n",
       "      <td>102862196</td>\n",
       "      <td>Balo nam nữ thời trang họa tiết bò sữa kiểu m...</td>\n",
       "      <td>0</td>\n",
       "      <td>OEM</td>\n",
       "      <td>Balo &amp; vali</td>\n",
       "      <td>Root</td>\n",
       "      <td>2022-04-09</td>\n",
       "      <td>Xưởng may balo Đà Nẵng</td>\n",
       "    </tr>\n",
       "    <tr>\n",
       "      <th>3</th>\n",
       "      <td>115740385</td>\n",
       "      <td>Vải nhũ bóng simili chống thấm may túi ví balo...</td>\n",
       "      <td>0</td>\n",
       "      <td>OEM</td>\n",
       "      <td>Balo &amp; vali</td>\n",
       "      <td>Root</td>\n",
       "      <td>2022-06-04</td>\n",
       "      <td>BB Outlet</td>\n",
       "    </tr>\n",
       "    <tr>\n",
       "      <th>4</th>\n",
       "      <td>102862375</td>\n",
       "      <td>Combo balo vừa a4 và túi tote thời trang kiểu...</td>\n",
       "      <td>0</td>\n",
       "      <td>OEM</td>\n",
       "      <td>Balo &amp; vali</td>\n",
       "      <td>Root</td>\n",
       "      <td>2022-04-09</td>\n",
       "      <td>Xưởng may balo Đà Nẵng</td>\n",
       "    </tr>\n",
       "  </tbody>\n",
       "</table>\n",
       "</div>"
      ],
      "text/plain": [
       "          id                                               name  \\\n",
       "0  179731375  Balo nữ da dầy thời trang unisex màu sắc tươi ...   \n",
       "1  249221065            Ví da đựng thẻ ngân hàng (7 màu) - 9205   \n",
       "2  102862196   Balo nam nữ thời trang họa tiết bò sữa kiểu m...   \n",
       "3  115740385  Vải nhũ bóng simili chống thấm may túi ví balo...   \n",
       "4  102862375   Combo balo vừa a4 và túi tote thời trang kiểu...   \n",
       "\n",
       "   quantity_sold brand product_source category date_created  \\\n",
       "0              0   OEM    Balo & vali  Balo nữ   2023-03-18   \n",
       "1              0   OEM    Balo & vali     Root   2024-02-03   \n",
       "2              0   OEM    Balo & vali     Root   2022-04-09   \n",
       "3              0   OEM    Balo & vali     Root   2022-06-04   \n",
       "4              0   OEM    Balo & vali     Root   2022-04-09   \n",
       "\n",
       "           current_seller  \n",
       "0           Thiên Ân Balo  \n",
       "1      SHOP THỜI TRANG 2N  \n",
       "2  Xưởng may balo Đà Nẵng  \n",
       "3               BB Outlet  \n",
       "4  Xưởng may balo Đà Nẵng  "
      ]
     },
     "execution_count": 32,
     "metadata": {},
     "output_type": "execute_result"
    }
   ],
   "source": [
    "df04.head()"
   ]
  },
  {
   "cell_type": "markdown",
   "id": "aee16937-bb15-49fe-9cda-df6b8819f5bd",
   "metadata": {},
   "source": [
    "## 2. Phân tích chẩn đoán: Root Cause"
   ]
  },
  {
   "cell_type": "markdown",
   "id": "25077555-b79b-4797-9677-99a3e338867f",
   "metadata": {},
   "source": [
    "### 2.1. Hiện tượng trưng bày chết"
   ]
  },
  {
   "cell_type": "code",
   "execution_count": 33,
   "id": "f730207f-15dc-4768-963c-7d987a2e7fad",
   "metadata": {
    "tags": []
   },
   "outputs": [
    {
     "data": {
      "text/plain": [
       "Index(['id', 'name', 'description', 'original_price', 'price',\n",
       "       'fulfillment_type', 'brand', 'review_count', 'rating_average',\n",
       "       'favourite_count', 'pay_later', 'current_seller', 'delta_days',\n",
       "       'number_of_images', 'vnd_cashback', 'has_video', 'category',\n",
       "       'quantity_sold', 'source', 'loaded_date', 'product_source',\n",
       "       'date_created'],\n",
       "      dtype='object')"
      ]
     },
     "execution_count": 33,
     "metadata": {},
     "output_type": "execute_result"
    }
   ],
   "source": [
    "df.columns"
   ]
  },
  {
   "cell_type": "code",
   "execution_count": 34,
   "id": "dc359d95-559a-403c-965b-19359f5e8745",
   "metadata": {
    "tags": []
   },
   "outputs": [],
   "source": [
    "df05 = df[[\"id\", \"name\", \"description\", \"original_price\", \"brand\", \"product_source\", \"category\", \"quantity_sold\", \"date_created\", \"has_video\", \"number_of_images\"]]"
   ]
  },
  {
   "cell_type": "code",
   "execution_count": 35,
   "id": "ba8bab5c-ed7d-4bbc-a3c2-7a6ea4bd4fbf",
   "metadata": {
    "tags": []
   },
   "outputs": [],
   "source": [
    "df05[\"status\"] = (df05.quantity_sold > 0).astype(int)"
   ]
  },
  {
   "cell_type": "code",
   "execution_count": 36,
   "id": "bdb9c701-156e-4ac5-a59b-a82c1643b102",
   "metadata": {
    "tags": []
   },
   "outputs": [],
   "source": [
    "df05[\"name_length\"] = df05.name.str.len()\n",
    "\n",
    "df05[\"has_video\"] = df05[\"has_video\"].astype(int)"
   ]
  },
  {
   "cell_type": "code",
   "execution_count": 38,
   "id": "bc4976c9-e7d1-498d-b1c1-1326adabd262",
   "metadata": {
    "tags": []
   },
   "outputs": [],
   "source": [
    "#df05.to_csv(\"D:/career/master/data_analysis/ck/Advanced_Data_Analyst/data/Status_RootCause.csv\", index=False, encoding=\"utf-8-sig\")"
   ]
  },
  {
   "cell_type": "code",
   "execution_count": 40,
   "id": "5986f512-5185-4b5a-a437-7ef329353388",
   "metadata": {
    "tags": []
   },
   "outputs": [
    {
     "data": {
      "text/html": [
       "<div>\n",
       "<style scoped>\n",
       "    .dataframe tbody tr th:only-of-type {\n",
       "        vertical-align: middle;\n",
       "    }\n",
       "\n",
       "    .dataframe tbody tr th {\n",
       "        vertical-align: top;\n",
       "    }\n",
       "\n",
       "    .dataframe thead th {\n",
       "        text-align: right;\n",
       "    }\n",
       "</style>\n",
       "<table border=\"1\" class=\"dataframe\">\n",
       "  <thead>\n",
       "    <tr style=\"text-align: right;\">\n",
       "      <th></th>\n",
       "      <th>name_length</th>\n",
       "      <th>number_of_images</th>\n",
       "      <th>has_video</th>\n",
       "      <th>status</th>\n",
       "    </tr>\n",
       "  </thead>\n",
       "  <tbody>\n",
       "    <tr>\n",
       "      <th>0</th>\n",
       "      <td>55</td>\n",
       "      <td>10</td>\n",
       "      <td>0</td>\n",
       "      <td>0</td>\n",
       "    </tr>\n",
       "    <tr>\n",
       "      <th>1</th>\n",
       "      <td>39</td>\n",
       "      <td>2</td>\n",
       "      <td>0</td>\n",
       "      <td>0</td>\n",
       "    </tr>\n",
       "    <tr>\n",
       "      <th>2</th>\n",
       "      <td>98</td>\n",
       "      <td>5</td>\n",
       "      <td>0</td>\n",
       "      <td>0</td>\n",
       "    </tr>\n",
       "  </tbody>\n",
       "</table>\n",
       "</div>"
      ],
      "text/plain": [
       "   name_length  number_of_images  has_video  status\n",
       "0           55                10          0       0\n",
       "1           39                 2          0       0\n",
       "2           98                 5          0       0"
      ]
     },
     "execution_count": 40,
     "metadata": {},
     "output_type": "execute_result"
    }
   ],
   "source": [
    "df05[[\"name_length\", \"number_of_images\", \"has_video\", \"status\"]].head(3)"
   ]
  },
  {
   "cell_type": "markdown",
   "id": "114c5f03-b799-4f9e-b723-3d1a11f5ff05",
   "metadata": {
    "tags": []
   },
   "source": [
    "### 2.2. Hiện tượng rating thấp (1-2)"
   ]
  },
  {
   "cell_type": "code",
   "execution_count": 49,
   "id": "b2427ce9-08c4-427f-b754-bf3923022488",
   "metadata": {
    "tags": []
   },
   "outputs": [],
   "source": [
    "df06 = df[[\"id\", \"name\", \"description\", \"rating_average\", \"original_price\", \"brand\", \"product_source\", \"category\", \"current_seller\", \"date_created\", \"has_video\", \"number_of_images\"]]"
   ]
  },
  {
   "cell_type": "code",
   "execution_count": 50,
   "id": "1f47a1de-3078-45c0-bf8d-c96ded457ca6",
   "metadata": {
    "tags": []
   },
   "outputs": [],
   "source": [
    "df06[\"name_length\"] = df05.name.str.len()\n",
    "\n",
    "df06[\"has_video\"] = df05[\"has_video\"].astype(int)"
   ]
  },
  {
   "cell_type": "code",
   "execution_count": 51,
   "id": "f804975f-5c35-4c71-8444-125f03273798",
   "metadata": {
    "tags": []
   },
   "outputs": [],
   "source": [
    "df06.to_csv(\"D:/career/master/data_analysis/ck/Advanced_Data_Analyst/data/Rating_RootCause.csv\", index=False, encoding=\"utf-8-sig\")"
   ]
  },
  {
   "cell_type": "code",
   "execution_count": null,
   "id": "4adab203-abb5-461a-88e9-6bc90ae56c9a",
   "metadata": {},
   "outputs": [],
   "source": []
  },
  {
   "cell_type": "code",
   "execution_count": null,
   "id": "b32fd296-4f3d-4287-9f8a-bd2c8ffd7f88",
   "metadata": {},
   "outputs": [],
   "source": []
  },
  {
   "cell_type": "markdown",
   "id": "d43c3856-6ba9-4bf3-9021-b4da456ab6c1",
   "metadata": {
    "tags": []
   },
   "source": [
    "## 3. Phân tích dự đoán: Recommendation System - Content-based filtering"
   ]
  },
  {
   "cell_type": "code",
   "execution_count": 15,
   "id": "b2bbc508-cf27-4730-9aa1-ca1204a3a017",
   "metadata": {},
   "outputs": [],
   "source": [
    "df07 = df[[\"id\", \"name\", \"description\", \"original_price\", \"brand\", \"product_source\", \"category\", \"rating_average\", \"current_seller\"]]"
   ]
  },
  {
   "cell_type": "code",
   "execution_count": 54,
   "id": "9ce612f0-b5ff-4c77-8e2a-be6541f97eb1",
   "metadata": {
    "tags": []
   },
   "outputs": [
    {
     "data": {
      "text/plain": [
       "array([0.2, 0.3, 0.4, 0.1, 4.2, 3. , 0. , 0. , 1. , 0. ])"
      ]
     },
     "execution_count": 54,
     "metadata": {},
     "output_type": "execute_result"
    }
   ],
   "source": [
    "final_vector"
   ]
  },
  {
   "cell_type": "code",
   "execution_count": 17,
   "id": "77a78a05-5c62-4442-acb2-47af5d5e0764",
   "metadata": {},
   "outputs": [],
   "source": [
    "df07.to_csv(\"Recommendation.csv\", index=False, encoding=\"utf-8-sig\")"
   ]
  },
  {
   "cell_type": "code",
   "execution_count": null,
   "id": "124cddc4-13fb-4f03-ac7f-85bf9f265257",
   "metadata": {},
   "outputs": [],
   "source": []
  }
 ],
 "metadata": {
  "kernelspec": {
   "display_name": "python39",
   "language": "python",
   "name": "python39"
  },
  "language_info": {
   "codemirror_mode": {
    "name": "ipython",
    "version": 3
   },
   "file_extension": ".py",
   "mimetype": "text/x-python",
   "name": "python",
   "nbconvert_exporter": "python",
   "pygments_lexer": "ipython3",
   "version": "3.11.5"
  }
 },
 "nbformat": 4,
 "nbformat_minor": 5
}
